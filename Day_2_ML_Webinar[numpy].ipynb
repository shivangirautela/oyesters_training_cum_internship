{
  "nbformat": 4,
  "nbformat_minor": 0,
  "metadata": {
    "colab": {
      "name": "Day 2 ML Webinar[numpy].ipynb",
      "provenance": [],
      "authorship_tag": "ABX9TyMC068fDQJ7djPpQEkNzO5h",
      "include_colab_link": true
    },
    "kernelspec": {
      "name": "python3",
      "display_name": "Python 3"
    }
  },
  "cells": [
    {
      "cell_type": "markdown",
      "metadata": {
        "id": "view-in-github",
        "colab_type": "text"
      },
      "source": [
        "<a href=\"https://colab.research.google.com/github/shivangirautela/oyesters_training_cum_internship/blob/master/Day_2_ML_Webinar%5Bnumpy%5D.ipynb\" target=\"_parent\"><img src=\"https://colab.research.google.com/assets/colab-badge.svg\" alt=\"Open In Colab\"/></a>"
      ]
    },
    {
      "cell_type": "code",
      "metadata": {
        "id": "UwvTa0QsRDDk",
        "colab_type": "code",
        "colab": {}
      },
      "source": [
        "import numpy as np #alias"
      ],
      "execution_count": 0,
      "outputs": []
    },
    {
      "cell_type": "code",
      "metadata": {
        "id": "QaWj_YZBS3qQ",
        "colab_type": "code",
        "colab": {
          "base_uri": "https://localhost:8080/",
          "height": 35
        },
        "outputId": "03a5e474-0414-440f-8fd8-ef10f8aa64dc"
      },
      "source": [
        "import sys    #check version of python\n",
        "sys.version"
      ],
      "execution_count": 1,
      "outputs": [
        {
          "output_type": "execute_result",
          "data": {
            "text/plain": [
              "'3.6.9 (default, Apr 18 2020, 01:56:04) \\n[GCC 8.4.0]'"
            ]
          },
          "metadata": {
            "tags": []
          },
          "execution_count": 1
        }
      ]
    },
    {
      "cell_type": "code",
      "metadata": {
        "id": "niPmq491TEeE",
        "colab_type": "code",
        "colab": {
          "base_uri": "https://localhost:8080/",
          "height": 35
        },
        "outputId": "3d47f211-ecb7-4c89-87a4-c13ea7310778"
      },
      "source": [
        "print(np.__version__)   #version of numpy"
      ],
      "execution_count": 4,
      "outputs": [
        {
          "output_type": "stream",
          "text": [
            "1.18.4\n"
          ],
          "name": "stdout"
        }
      ]
    },
    {
      "cell_type": "code",
      "metadata": {
        "id": "7O3NpXBGTEql",
        "colab_type": "code",
        "colab": {
          "base_uri": "https://localhost:8080/",
          "height": 35
        },
        "outputId": "1930e162-23c1-4ba0-fba2-f8db26659ca8"
      },
      "source": [
        "#1. create an array\n",
        "np.array(1)"
      ],
      "execution_count": 5,
      "outputs": [
        {
          "output_type": "execute_result",
          "data": {
            "text/plain": [
              "array(1)"
            ]
          },
          "metadata": {
            "tags": []
          },
          "execution_count": 5
        }
      ]
    },
    {
      "cell_type": "code",
      "metadata": {
        "id": "juWdLehFTExx",
        "colab_type": "code",
        "colab": {}
      },
      "source": [
        "#scalar - 0 dimensional array (only a single)\n",
        "#vector - 1 dimensional array((1 or n)row/ (1 or n)columns)\n",
        "#matrix - 2 dimensional array(row * columns)"
      ],
      "execution_count": 0,
      "outputs": []
    },
    {
      "cell_type": "markdown",
      "metadata": {
        "id": "8IoarkANUgm4",
        "colab_type": "text"
      },
      "source": [
        "#scalar array"
      ]
    },
    {
      "cell_type": "code",
      "metadata": {
        "id": "ewAU5mzLUMhq",
        "colab_type": "code",
        "colab": {
          "base_uri": "https://localhost:8080/",
          "height": 121
        },
        "outputId": "88fee3d5-aa62-4270-f672-ff6b9e87acfc"
      },
      "source": [
        "a= np.array(2)\n",
        "print(a)  #printing array\n",
        "print(type(a))\n",
        "print(a.size)   #values in array\n",
        "print(a.shape)  #shape\n",
        "print(a.ndim)    #dimension of array\n",
        "print(a.dtype)   #datatype"
      ],
      "execution_count": 8,
      "outputs": [
        {
          "output_type": "stream",
          "text": [
            "2\n",
            "<class 'numpy.ndarray'>\n",
            "1\n",
            "()\n",
            "0\n",
            "int64\n"
          ],
          "name": "stdout"
        }
      ]
    },
    {
      "cell_type": "code",
      "metadata": {
        "id": "cJ1lGKA8VOl7",
        "colab_type": "code",
        "colab": {
          "base_uri": "https://localhost:8080/",
          "height": 121
        },
        "outputId": "d63bbebf-0226-42fb-cc81-f658e3c4fc16"
      },
      "source": [
        "a= np.array([1,2,3,4],dtype= 'int32')\n",
        "print(a)  #printing array\n",
        "print(type(a))\n",
        "print(a.size)   #values in array   (attributes)\n",
        "print(a.shape)  #shape\n",
        "print(a.ndim)    #dimension of array\n",
        "print(a.dtype)   #datatype"
      ],
      "execution_count": 10,
      "outputs": [
        {
          "output_type": "stream",
          "text": [
            "[1 2 3 4]\n",
            "<class 'numpy.ndarray'>\n",
            "4\n",
            "(4,)\n",
            "1\n",
            "int32\n"
          ],
          "name": "stdout"
        }
      ]
    },
    {
      "cell_type": "code",
      "metadata": {
        "id": "vBVjwm3gVOux",
        "colab_type": "code",
        "colab": {
          "base_uri": "https://localhost:8080/",
          "height": 139
        },
        "outputId": "55f4a234-5ebb-4c73-bde6-e611d8898b27"
      },
      "source": [
        "#matrix\n",
        "#vector\n",
        "a= np.array([[1,2,3],[2,3,4]],dtype= 'int32')\n",
        "print(a)  #printing array\n",
        "print(type(a))\n",
        "print(a.size)   #values in array   (attributes)\n",
        "print(a.shape)  #shape\n",
        "print(a.ndim)    #dimension of array\n",
        "print(a.dtype)   #datatype"
      ],
      "execution_count": 12,
      "outputs": [
        {
          "output_type": "stream",
          "text": [
            "[[1 2 3]\n",
            " [2 3 4]]\n",
            "<class 'numpy.ndarray'>\n",
            "6\n",
            "(2, 3)\n",
            "2\n",
            "int32\n"
          ],
          "name": "stdout"
        }
      ]
    },
    {
      "cell_type": "code",
      "metadata": {
        "id": "49iyqbrSVO4J",
        "colab_type": "code",
        "colab": {
          "base_uri": "https://localhost:8080/",
          "height": 139
        },
        "outputId": "31f5ff0b-a110-48d3-f109-d2bb28b4272e"
      },
      "source": [
        "# 3 D array\n",
        "a= np.array([[[1,2,3],[2,3,4]],[[2,3,6],[7,8,9]]],dtype= 'int32')\n",
        "print(a)  #printing array\n",
        "              # (attributes)\n",
        "print(a.shape)  #shape\n",
        "print(a.ndim)    #dimension of array"
      ],
      "execution_count": 15,
      "outputs": [
        {
          "output_type": "stream",
          "text": [
            "[[[1 2 3]\n",
            "  [2 3 4]]\n",
            "\n",
            " [[2 3 6]\n",
            "  [7 8 9]]]\n",
            "(2, 2, 3)\n",
            "3\n"
          ],
          "name": "stdout"
        }
      ]
    },
    {
      "cell_type": "code",
      "metadata": {
        "id": "3yWhf00VVPAi",
        "colab_type": "code",
        "colab": {
          "base_uri": "https://localhost:8080/",
          "height": 69
        },
        "outputId": "5685b94b-fb3d-4c1b-8b43-f9a27f0781ab"
      },
      "source": [
        "#methods\n",
        "#creatig a random vector\n",
        "r = np.random.randint(1,100,30)\n",
        "#lowest value\n",
        "#highest value\n",
        "# count\n",
        "print(r)\n",
        "r.shape"
      ],
      "execution_count": 22,
      "outputs": [
        {
          "output_type": "stream",
          "text": [
            "[70 96  5 13 26 65 52 10 41 48 69 16 27 55 30 87 42 13 39 18 55 56 80 84\n",
            " 23 54 34 66 10 31]\n"
          ],
          "name": "stdout"
        },
        {
          "output_type": "execute_result",
          "data": {
            "text/plain": [
              "(30,)"
            ]
          },
          "metadata": {
            "tags": []
          },
          "execution_count": 22
        }
      ]
    },
    {
      "cell_type": "code",
      "metadata": {
        "id": "6eJnGCF5Y2VK",
        "colab_type": "code",
        "colab": {
          "base_uri": "https://localhost:8080/",
          "height": 121
        },
        "outputId": "8e04aa79-64e1-444e-f9f1-2db420fc41bb"
      },
      "source": [
        "#converting vector into matrix\n",
        "r.reshape(6,5).astype('float32')"
      ],
      "execution_count": 23,
      "outputs": [
        {
          "output_type": "execute_result",
          "data": {
            "text/plain": [
              "array([[70., 96.,  5., 13., 26.],\n",
              "       [65., 52., 10., 41., 48.],\n",
              "       [69., 16., 27., 55., 30.],\n",
              "       [87., 42., 13., 39., 18.],\n",
              "       [55., 56., 80., 84., 23.],\n",
              "       [54., 34., 66., 10., 31.]], dtype=float32)"
            ]
          },
          "metadata": {
            "tags": []
          },
          "execution_count": 23
        }
      ]
    },
    {
      "cell_type": "code",
      "metadata": {
        "id": "tNJXNLA0YTAq",
        "colab_type": "code",
        "colab": {}
      },
      "source": [
        "np.random.randint?  #documentation"
      ],
      "execution_count": 0,
      "outputs": []
    },
    {
      "cell_type": "code",
      "metadata": {
        "id": "ACbXXcUjYns4",
        "colab_type": "code",
        "colab": {
          "base_uri": "https://localhost:8080/",
          "height": 52
        },
        "outputId": "f0c5b0fd-bf8d-45e5-bd8a-d3357ebf8220"
      },
      "source": [
        "2.5 * np.random.random(10)  # 10 random number *2.5"
      ],
      "execution_count": 24,
      "outputs": [
        {
          "output_type": "execute_result",
          "data": {
            "text/plain": [
              "array([0.14465738, 0.70565047, 0.70913637, 2.2572738 , 0.13304082,\n",
              "       1.6588995 , 1.64156482, 0.27598747, 1.42686125, 1.29191237])"
            ]
          },
          "metadata": {
            "tags": []
          },
          "execution_count": 24
        }
      ]
    },
    {
      "cell_type": "code",
      "metadata": {
        "id": "HvvYNYJ5Ynv9",
        "colab_type": "code",
        "colab": {
          "base_uri": "https://localhost:8080/",
          "height": 69
        },
        "outputId": "83a19a89-3182-4cef-f805-62bd49bbe864"
      },
      "source": [
        "#direct randomn value matrix\n",
        "r = np.random.randint(1,100,size=(3,4))\n",
        "r"
      ],
      "execution_count": 25,
      "outputs": [
        {
          "output_type": "execute_result",
          "data": {
            "text/plain": [
              "array([[64, 95, 82, 43],\n",
              "       [45, 75, 64, 82],\n",
              "       [ 2, 18, 81, 94]])"
            ]
          },
          "metadata": {
            "tags": []
          },
          "execution_count": 25
        }
      ]
    },
    {
      "cell_type": "code",
      "metadata": {
        "id": "lLX-iODEYoBU",
        "colab_type": "code",
        "colab": {
          "base_uri": "https://localhost:8080/",
          "height": 35
        },
        "outputId": "c7fc5a35-7d04-4fa6-efe2-5f32789fff8b"
      },
      "source": [
        "a = np.arange(1,10,2)\n",
        "a"
      ],
      "execution_count": 28,
      "outputs": [
        {
          "output_type": "execute_result",
          "data": {
            "text/plain": [
              "array([1, 3, 5, 7, 9])"
            ]
          },
          "metadata": {
            "tags": []
          },
          "execution_count": 28
        }
      ]
    },
    {
      "cell_type": "code",
      "metadata": {
        "id": "iuD4rxOLYoEY",
        "colab_type": "code",
        "colab": {
          "base_uri": "https://localhost:8080/",
          "height": 69
        },
        "outputId": "2d30c10f-3270-44e2-f49b-0d465f767b43"
      },
      "source": [
        "#calculating distance\n",
        "a=np.array([1,2])\n",
        "b=np.array([3,4])\n",
        "d1 = np.linalg.norm(a)\n",
        "d2=np.linalg.norm(b)\n",
        "print(d1)\n",
        "print(d2)\n",
        "print(np.linalg.norm(a-b))"
      ],
      "execution_count": 31,
      "outputs": [
        {
          "output_type": "stream",
          "text": [
            "2.23606797749979\n",
            "5.0\n",
            "2.8284271247461903\n"
          ],
          "name": "stdout"
        }
      ]
    },
    {
      "cell_type": "code",
      "metadata": {
        "id": "rIVMs2xvYoNX",
        "colab_type": "code",
        "colab": {
          "base_uri": "https://localhost:8080/",
          "height": 35
        },
        "outputId": "d773ca63-ebb5-4610-84b7-cbc1ff37e048"
      },
      "source": [
        " np.ones(10,dtype='int')"
      ],
      "execution_count": 34,
      "outputs": [
        {
          "output_type": "execute_result",
          "data": {
            "text/plain": [
              "array([1, 1, 1, 1, 1, 1, 1, 1, 1, 1])"
            ]
          },
          "metadata": {
            "tags": []
          },
          "execution_count": 34
        }
      ]
    },
    {
      "cell_type": "code",
      "metadata": {
        "id": "AKs8x_CKYoTe",
        "colab_type": "code",
        "colab": {
          "base_uri": "https://localhost:8080/",
          "height": 104
        },
        "outputId": "78a44816-e8bc-4db6-aa61-683614935df6"
      },
      "source": [
        "np.ones([5,5])   #white background vision"
      ],
      "execution_count": 35,
      "outputs": [
        {
          "output_type": "execute_result",
          "data": {
            "text/plain": [
              "array([[1., 1., 1., 1., 1.],\n",
              "       [1., 1., 1., 1., 1.],\n",
              "       [1., 1., 1., 1., 1.],\n",
              "       [1., 1., 1., 1., 1.],\n",
              "       [1., 1., 1., 1., 1.]])"
            ]
          },
          "metadata": {
            "tags": []
          },
          "execution_count": 35
        }
      ]
    },
    {
      "cell_type": "code",
      "metadata": {
        "id": "AlJl0zP-YoWh",
        "colab_type": "code",
        "colab": {
          "base_uri": "https://localhost:8080/",
          "height": 104
        },
        "outputId": "76d81d13-0ded-4bab-f023-998d18d1a6e7"
      },
      "source": [
        "np.zeros([5,5])"
      ],
      "execution_count": 36,
      "outputs": [
        {
          "output_type": "execute_result",
          "data": {
            "text/plain": [
              "array([[0., 0., 0., 0., 0.],\n",
              "       [0., 0., 0., 0., 0.],\n",
              "       [0., 0., 0., 0., 0.],\n",
              "       [0., 0., 0., 0., 0.],\n",
              "       [0., 0., 0., 0., 0.]])"
            ]
          },
          "metadata": {
            "tags": []
          },
          "execution_count": 36
        }
      ]
    },
    {
      "cell_type": "code",
      "metadata": {
        "id": "5D1RUwCTfMNw",
        "colab_type": "code",
        "colab": {
          "base_uri": "https://localhost:8080/",
          "height": 104
        },
        "outputId": "29396216-8103-4f31-cc7f-a6d00beb1330"
      },
      "source": [
        "np.eye(5)"
      ],
      "execution_count": 37,
      "outputs": [
        {
          "output_type": "execute_result",
          "data": {
            "text/plain": [
              "array([[1., 0., 0., 0., 0.],\n",
              "       [0., 1., 0., 0., 0.],\n",
              "       [0., 0., 1., 0., 0.],\n",
              "       [0., 0., 0., 1., 0.],\n",
              "       [0., 0., 0., 0., 1.]])"
            ]
          },
          "metadata": {
            "tags": []
          },
          "execution_count": 37
        }
      ]
    },
    {
      "cell_type": "code",
      "metadata": {
        "id": "WZX7xp7wfpeQ",
        "colab_type": "code",
        "colab": {
          "base_uri": "https://localhost:8080/",
          "height": 35
        },
        "outputId": "14f9b3be-7837-40bd-8c9a-e2531c14878b"
      },
      "source": [
        "a = range(1,10)\n",
        "list(a)"
      ],
      "execution_count": 38,
      "outputs": [
        {
          "output_type": "execute_result",
          "data": {
            "text/plain": [
              "[1, 2, 3, 4, 5, 6, 7, 8, 9]"
            ]
          },
          "metadata": {
            "tags": []
          },
          "execution_count": 38
        }
      ]
    }
  ]
}