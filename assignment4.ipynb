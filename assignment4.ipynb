{
  "nbformat": 4,
  "nbformat_minor": 0,
  "metadata": {
    "colab": {
      "name": "assignment4.ipynb",
      "provenance": [],
      "collapsed_sections": [],
      "authorship_tag": "ABX9TyO6gje2OyqG4QV8JCLRCL2y",
      "include_colab_link": true
    },
    "kernelspec": {
      "name": "python3",
      "display_name": "Python 3"
    }
  },
  "cells": [
    {
      "cell_type": "markdown",
      "metadata": {
        "id": "view-in-github",
        "colab_type": "text"
      },
      "source": [
        "<a href=\"https://colab.research.google.com/github/shivangirautela/oyesters_training_cum_internship/blob/master/assignment4.ipynb\" target=\"_parent\"><img src=\"https://colab.research.google.com/assets/colab-badge.svg\" alt=\"Open In Colab\"/></a>"
      ]
    },
    {
      "cell_type": "markdown",
      "metadata": {
        "id": "9cj27Lwmc2S5",
        "colab_type": "text"
      },
      "source": [
        "Write a Program in Python from scratch without using Sklearn Library for implementing Linear Regression using the same data delivered in Webinar [ Least Square Method]\n"
      ]
    },
    {
      "cell_type": "markdown",
      "metadata": {
        "id": "D1lk00-fc8bH",
        "colab_type": "text"
      },
      "source": [
        "1. Take a variable named x and y and assign the values 1,2,3,4,5,6 to x and 10,12,14,16,18,20 to y using numpy arrays. Draw a scatter plot beween x and y"
      ]
    },
    {
      "cell_type": "code",
      "metadata": {
        "id": "hq_dYBcxAzGe",
        "colab_type": "code",
        "colab": {}
      },
      "source": [
        "import numpy as np\n",
        "import matplotlib.pyplot as plt"
      ],
      "execution_count": 0,
      "outputs": []
    },
    {
      "cell_type": "code",
      "metadata": {
        "id": "4bCLk2h_Ba1f",
        "colab_type": "code",
        "outputId": "242d3583-8eef-4546-9a3f-a44d43cd5c35",
        "colab": {
          "base_uri": "https://localhost:8080/",
          "height": 317
        }
      },
      "source": [
        "x=np.arange(1,7)\n",
        "print(x)\n",
        "y=np.arange(10,21,2)\n",
        "print(y)\n",
        "plt.scatter(x,y)\n"
      ],
      "execution_count": 0,
      "outputs": [
        {
          "output_type": "stream",
          "text": [
            "[1 2 3 4 5 6]\n",
            "[10 12 14 16 18 20]\n"
          ],
          "name": "stdout"
        },
        {
          "output_type": "execute_result",
          "data": {
            "text/plain": [
              "<matplotlib.collections.PathCollection at 0x7f34f1721358>"
            ]
          },
          "metadata": {
            "tags": []
          },
          "execution_count": 17
        },
        {
          "output_type": "display_data",
          "data": {
            "image/png": "[encoded data removed]",
            "text/plain": [
              "<Figure size 432x288 with 1 Axes>"
            ]
          },
          "metadata": {
            "tags": [],
            "needs_background": "light"
          }
        }
      ]
    },
    {
      "cell_type": "markdown",
      "metadata": {
        "id": "XmDinoPxdIMg",
        "colab_type": "text"
      },
      "source": [
        "2. Calculate the mean values of x and y & store it in mean_x and mean_y respectively"
      ]
    },
    {
      "cell_type": "code",
      "metadata": {
        "id": "tU0QDu5pCXsD",
        "colab_type": "code",
        "outputId": "b48fc437-3ee7-4ff4-e8d4-ac3fb318c0f2",
        "colab": {
          "base_uri": "https://localhost:8080/",
          "height": 52
        }
      },
      "source": [
        "mean_x = np.mean(x)\n",
        "mean_y = np.mean(y)\n",
        "print(mean_x)\n",
        "print(mean_y)"
      ],
      "execution_count": 0,
      "outputs": [
        {
          "output_type": "stream",
          "text": [
            "3.5\n",
            "15.0\n"
          ],
          "name": "stdout"
        }
      ]
    },
    {
      "cell_type": "markdown",
      "metadata": {
        "id": "vsMEo13OdO0Q",
        "colab_type": "text"
      },
      "source": [
        "3. Print the values of Column 3 and 4 which is the difference amount of x with x_mean & y with y_mean"
      ]
    },
    {
      "cell_type": "code",
      "metadata": {
        "id": "RhVw_WLnSXwy",
        "colab_type": "code",
        "outputId": "84de4b53-bcaf-4218-e746-08fe2391f6c1",
        "colab": {
          "base_uri": "https://localhost:8080/",
          "height": 121
        }
      },
      "source": [
        "i=0\n",
        "for i in range(0,len(x)):\n",
        "  xx=x[i]-mean_x\n",
        "  print(xx)"
      ],
      "execution_count": 0,
      "outputs": [
        {
          "output_type": "stream",
          "text": [
            "-2.5\n",
            "-1.5\n",
            "-0.5\n",
            "0.5\n",
            "1.5\n",
            "2.5\n"
          ],
          "name": "stdout"
        }
      ]
    },
    {
      "cell_type": "code",
      "metadata": {
        "id": "_7sCWpoCS_8g",
        "colab_type": "code",
        "outputId": "653ff6f3-f6f2-4dc1-ce18-cbcc022bcb07",
        "colab": {
          "base_uri": "https://localhost:8080/",
          "height": 121
        }
      },
      "source": [
        "i=0;\n",
        "for i in range(0,len(y)):\n",
        "  yy=y[i]-mean_y\n",
        "  print(yy)"
      ],
      "execution_count": 0,
      "outputs": [
        {
          "output_type": "stream",
          "text": [
            "-5.0\n",
            "-3.0\n",
            "-1.0\n",
            "1.0\n",
            "3.0\n",
            "5.0\n"
          ],
          "name": "stdout"
        }
      ]
    },
    {
      "cell_type": "markdown",
      "metadata": {
        "id": "wgaOTM8EdWfY",
        "colab_type": "text"
      },
      "source": [
        "4. Finding values of 5th and 6th Column\n",
        " Store the value of numerator in numer variable and denominator value in denom variable\n",
        " Also print the value of slope(m) and Y-intercept(c)\n",
        "Hint: Use the following equation\n",
        "image.png"
      ]
    },
    {
      "cell_type": "code",
      "metadata": {
        "id": "CcGvQbpzUYWV",
        "colab_type": "code",
        "outputId": "6f7b5a0a-98ed-45ce-fdfb-ffa5f68463ec",
        "colab": {
          "base_uri": "https://localhost:8080/",
          "height": 87
        }
      },
      "source": [
        "numer =0;\n",
        "denom=0;\n",
        "for i in range(0,len(x)):\n",
        "  numer += xx * yy \n",
        "\n",
        "for i in range(0,len(x)):\n",
        "  denom += xx * xx \n",
        "\n",
        "print(numer)\n",
        "print(denom)\n",
        "m = numer / denom\n",
        "print(m)\n",
        "\n",
        "y_intercept = mean_y - m * mean_x\n",
        "print(y_intercept)"
      ],
      "execution_count": 0,
      "outputs": [
        {
          "output_type": "stream",
          "text": [
            "75.0\n",
            "37.5\n",
            "2.0\n",
            "8.0\n"
          ],
          "name": "stdout"
        }
      ]
    },
    {
      "cell_type": "markdown",
      "metadata": {
        "id": "uKqA1-U5dfgM",
        "colab_type": "text"
      },
      "source": [
        "5. Predict the value for 3.5 and 4.5 and check whether the output is same with Sklearn Library"
      ]
    },
    {
      "cell_type": "code",
      "metadata": {
        "id": "JEH-eRwrWDws",
        "colab_type": "code",
        "outputId": "a5eb4eed-1c48-48d2-a930-519db4e41cf1",
        "colab": {
          "base_uri": "https://localhost:8080/",
          "height": 35
        }
      },
      "source": [
        "x = float( input(\"enter the number\"))"
      ],
      "execution_count": 0,
      "outputs": [
        {
          "output_type": "stream",
          "text": [
            "enter the number3.5\n"
          ],
          "name": "stdout"
        }
      ]
    },
    {
      "cell_type": "code",
      "metadata": {
        "id": "CWatnx7zNA9r",
        "colab_type": "code",
        "outputId": "d5aab3b9-a8a9-429d-c203-413544c93029",
        "colab": {
          "base_uri": "https://localhost:8080/",
          "height": 35
        }
      },
      "source": [
        "y= m * x + y_intercept\n",
        "y"
      ],
      "execution_count": 0,
      "outputs": [
        {
          "output_type": "execute_result",
          "data": {
            "text/plain": [
              "15.0"
            ]
          },
          "metadata": {
            "tags": []
          },
          "execution_count": 25
        }
      ]
    }
  ]
}