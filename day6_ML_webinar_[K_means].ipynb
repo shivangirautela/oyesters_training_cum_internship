{
  "nbformat": 4,
  "nbformat_minor": 0,
  "metadata": {
    "colab": {
      "name": "day6 - ML webinar [K means].ipynb",
      "provenance": [],
      "collapsed_sections": [],
      "authorship_tag": "ABX9TyPwZNeJeKWZhiV7UZFiKlfw",
      "include_colab_link": true
    },
    "kernelspec": {
      "name": "python3",
      "display_name": "Python 3"
    }
  },
  "cells": [
    {
      "cell_type": "markdown",
      "metadata": {
        "id": "view-in-github",
        "colab_type": "text"
      },
      "source": [
        "<a href=\"https://colab.research.google.com/github/shivangirautela/oyesters_training_cum_internship/blob/master/day6_ML_webinar_%5BK_means%5D.ipynb\" target=\"_parent\"><img src=\"https://colab.research.google.com/assets/colab-badge.svg\" alt=\"Open In Colab\"/></a>"
      ]
    },
    {
      "cell_type": "code",
      "metadata": {
        "id": "6uJz_AQt2E4p",
        "colab_type": "code",
        "colab": {}
      },
      "source": [
        "import pandas as pd"
      ],
      "execution_count": 0,
      "outputs": []
    },
    {
      "cell_type": "code",
      "metadata": {
        "id": "tj5a4vxo9mHl",
        "colab_type": "code",
        "colab": {
          "base_uri": "https://localhost:8080/",
          "height": 417
        },
        "outputId": "5b834212-5cf3-4ae9-be88-551aa48e41e2"
      },
      "source": [
        "df = pd.read_csv('htwt.csv')\n",
        "df"
      ],
      "execution_count": 31,
      "outputs": [
        {
          "output_type": "execute_result",
          "data": {
            "text/html": [
              "<div>\n",
              "<style scoped>\n",
              "    .dataframe tbody tr th:only-of-type {\n",
              "        vertical-align: middle;\n",
              "    }\n",
              "\n",
              "    .dataframe tbody tr th {\n",
              "        vertical-align: top;\n",
              "    }\n",
              "\n",
              "    .dataframe thead th {\n",
              "        text-align: right;\n",
              "    }\n",
              "</style>\n",
              "<table border=\"1\" class=\"dataframe\">\n",
              "  <thead>\n",
              "    <tr style=\"text-align: right;\">\n",
              "      <th></th>\n",
              "      <th>Height</th>\n",
              "      <th>Weight</th>\n",
              "    </tr>\n",
              "  </thead>\n",
              "  <tbody>\n",
              "    <tr>\n",
              "      <th>0</th>\n",
              "      <td>185</td>\n",
              "      <td>72</td>\n",
              "    </tr>\n",
              "    <tr>\n",
              "      <th>1</th>\n",
              "      <td>170</td>\n",
              "      <td>56</td>\n",
              "    </tr>\n",
              "    <tr>\n",
              "      <th>2</th>\n",
              "      <td>168</td>\n",
              "      <td>60</td>\n",
              "    </tr>\n",
              "    <tr>\n",
              "      <th>3</th>\n",
              "      <td>179</td>\n",
              "      <td>68</td>\n",
              "    </tr>\n",
              "    <tr>\n",
              "      <th>4</th>\n",
              "      <td>182</td>\n",
              "      <td>72</td>\n",
              "    </tr>\n",
              "    <tr>\n",
              "      <th>5</th>\n",
              "      <td>188</td>\n",
              "      <td>77</td>\n",
              "    </tr>\n",
              "    <tr>\n",
              "      <th>6</th>\n",
              "      <td>180</td>\n",
              "      <td>71</td>\n",
              "    </tr>\n",
              "    <tr>\n",
              "      <th>7</th>\n",
              "      <td>180</td>\n",
              "      <td>70</td>\n",
              "    </tr>\n",
              "    <tr>\n",
              "      <th>8</th>\n",
              "      <td>183</td>\n",
              "      <td>84</td>\n",
              "    </tr>\n",
              "    <tr>\n",
              "      <th>9</th>\n",
              "      <td>180</td>\n",
              "      <td>88</td>\n",
              "    </tr>\n",
              "    <tr>\n",
              "      <th>10</th>\n",
              "      <td>180</td>\n",
              "      <td>67</td>\n",
              "    </tr>\n",
              "    <tr>\n",
              "      <th>11</th>\n",
              "      <td>177</td>\n",
              "      <td>76</td>\n",
              "    </tr>\n",
              "  </tbody>\n",
              "</table>\n",
              "</div>"
            ],
            "text/plain": [
              "    Height  Weight\n",
              "0      185      72\n",
              "1      170      56\n",
              "2      168      60\n",
              "3      179      68\n",
              "4      182      72\n",
              "5      188      77\n",
              "6      180      71\n",
              "7      180      70\n",
              "8      183      84\n",
              "9      180      88\n",
              "10     180      67\n",
              "11     177      76"
            ]
          },
          "metadata": {
            "tags": []
          },
          "execution_count": 31
        }
      ]
    },
    {
      "cell_type": "code",
      "metadata": {
        "id": "uP9lhUjN9wjK",
        "colab_type": "code",
        "colab": {
          "base_uri": "https://localhost:8080/",
          "height": 279
        },
        "outputId": "07f88798-ab9b-4245-a344-a04edfec2206"
      },
      "source": [
        "import matplotlib.pyplot as plt\n",
        "plt.scatter(df['Height'],df['Weight'])\n",
        "plt.xlabel('height')\n",
        "plt.ylabel('weight')\n",
        "plt.show()"
      ],
      "execution_count": 32,
      "outputs": [
        {
          "output_type": "display_data",
          "data": {
            "image/png": "[encoded data removed]",
            "text/plain": [
              "<Figure size 432x288 with 1 Axes>"
            ]
          },
          "metadata": {
            "tags": [],
            "needs_background": "light"
          }
        }
      ]
    },
    {
      "cell_type": "code",
      "metadata": {
        "id": "eM-um05m9wrI",
        "colab_type": "code",
        "colab": {
          "base_uri": "https://localhost:8080/",
          "height": 225
        },
        "outputId": "a76587e9-b958-46ab-f711-3cec0a91d39f"
      },
      "source": [
        "x = df.iloc[:,[0,1]].values  #inputs are considered\n",
        "x"
      ],
      "execution_count": 33,
      "outputs": [
        {
          "output_type": "execute_result",
          "data": {
            "text/plain": [
              "array([[185,  72],\n",
              "       [170,  56],\n",
              "       [168,  60],\n",
              "       [179,  68],\n",
              "       [182,  72],\n",
              "       [188,  77],\n",
              "       [180,  71],\n",
              "       [180,  70],\n",
              "       [183,  84],\n",
              "       [180,  88],\n",
              "       [180,  67],\n",
              "       [177,  76]])"
            ]
          },
          "metadata": {
            "tags": []
          },
          "execution_count": 33
        }
      ]
    },
    {
      "cell_type": "code",
      "metadata": {
        "id": "j5CPc20F9w1A",
        "colab_type": "code",
        "colab": {
          "base_uri": "https://localhost:8080/",
          "height": 297
        },
        "outputId": "d0417054-9ce3-4e28-907b-30feda7c851e"
      },
      "source": [
        "#no of clusters [ elbow method ]\n",
        "from sklearn.cluster import KMeans \n",
        "sse = [ ]   #empty list for storing SSE values\n",
        "for i in range(1,13):   # take a loop from 1 to max value\n",
        "  model = KMeans(n_clusters = i)  #define a model with i as n_clusters\n",
        "  model.fit(x)  #fit the model\n",
        "  sse.append(model.inertia_)  #SSE value\n",
        "plt.plot(range(1,13),sse)\n",
        "plt.xlabel('no of cluster')\n",
        "plt.ylabel('SSE')\n",
        "plt.plot()"
      ],
      "execution_count": 34,
      "outputs": [
        {
          "output_type": "execute_result",
          "data": {
            "text/plain": [
              "[]"
            ]
          },
          "metadata": {
            "tags": []
          },
          "execution_count": 34
        },
        {
          "output_type": "display_data",
          "data": {
            "image/png": "[encoded data removed]",
            "text/plain": [
              "<Figure size 432x288 with 1 Axes>"
            ]
          },
          "metadata": {
            "tags": [],
            "needs_background": "light"
          }
        }
      ]
    },
    {
      "cell_type": "code",
      "metadata": {
        "id": "icj7Xwci9w9y",
        "colab_type": "code",
        "colab": {
          "base_uri": "https://localhost:8080/",
          "height": 35
        },
        "outputId": "db9a8450-9722-4714-f9d8-10663603b2a7"
      },
      "source": [
        "# Assuming k value to be 2\n",
        "from sklearn.cluster import KMeans \n",
        "model = KMeans(n_clusters = 2 , random_state = 0) \n",
        "model.fit(x)\n",
        "ypred = model.predict(x)\n",
        "ypred"
      ],
      "execution_count": 35,
      "outputs": [
        {
          "output_type": "execute_result",
          "data": {
            "text/plain": [
              "array([0, 1, 1, 0, 0, 0, 0, 0, 0, 0, 0, 0], dtype=int32)"
            ]
          },
          "metadata": {
            "tags": []
          },
          "execution_count": 35
        }
      ]
    },
    {
      "cell_type": "code",
      "metadata": {
        "id": "C05u5gOR_cD0",
        "colab_type": "code",
        "colab": {
          "base_uri": "https://localhost:8080/",
          "height": 35
        },
        "outputId": "ba8904a6-d3bf-4743-cb65-721e11bb7369"
      },
      "source": [
        "# plotting the clusters\n",
        "\n",
        "# 1. cluster 0 - 10 points (10 - height, 10- weight)\n",
        "# 2. cluster 1 - 2 points (2- height , 2- weight)\n",
        "x[ypred ==0,0] # cluster ,column  (values of cluster 0 of height column)"
      ],
      "execution_count": 36,
      "outputs": [
        {
          "output_type": "execute_result",
          "data": {
            "text/plain": [
              "array([185, 179, 182, 188, 180, 180, 183, 180, 180, 177])"
            ]
          },
          "metadata": {
            "tags": []
          },
          "execution_count": 36
        }
      ]
    },
    {
      "cell_type": "code",
      "metadata": {
        "id": "WLmZG3f0_cGQ",
        "colab_type": "code",
        "colab": {
          "base_uri": "https://localhost:8080/",
          "height": 35
        },
        "outputId": "e16cbaee-694e-47b4-a27d-3550dd2fea7a"
      },
      "source": [
        "x[ypred == 0,1]  "
      ],
      "execution_count": 37,
      "outputs": [
        {
          "output_type": "execute_result",
          "data": {
            "text/plain": [
              "array([72, 68, 72, 77, 71, 70, 84, 88, 67, 76])"
            ]
          },
          "metadata": {
            "tags": []
          },
          "execution_count": 37
        }
      ]
    },
    {
      "cell_type": "code",
      "metadata": {
        "id": "Rmzu61B6_cQc",
        "colab_type": "code",
        "colab": {
          "base_uri": "https://localhost:8080/",
          "height": 35
        },
        "outputId": "ce59a86a-b8ad-489b-88eb-ca106586bdab"
      },
      "source": [
        "x[ypred == 1,0]"
      ],
      "execution_count": 38,
      "outputs": [
        {
          "output_type": "execute_result",
          "data": {
            "text/plain": [
              "array([170, 168])"
            ]
          },
          "metadata": {
            "tags": []
          },
          "execution_count": 38
        }
      ]
    },
    {
      "cell_type": "code",
      "metadata": {
        "id": "dZjB1JHqBrN9",
        "colab_type": "code",
        "colab": {
          "base_uri": "https://localhost:8080/",
          "height": 35
        },
        "outputId": "0b418e67-2787-4c53-c547-dffc2dd43658"
      },
      "source": [
        "x[ypred == 1,1]"
      ],
      "execution_count": 39,
      "outputs": [
        {
          "output_type": "execute_result",
          "data": {
            "text/plain": [
              "array([56, 60])"
            ]
          },
          "metadata": {
            "tags": []
          },
          "execution_count": 39
        }
      ]
    },
    {
      "cell_type": "code",
      "metadata": {
        "id": "I5jBd6RIBrSc",
        "colab_type": "code",
        "colab": {
          "base_uri": "https://localhost:8080/",
          "height": 283
        },
        "outputId": "d1d36980-678e-4407-f38e-60b907ccb1a1"
      },
      "source": [
        "plt.scatter(x[ypred == 0,0],x[ypred == 0,1], s=70, c='r',label ='Cluster 0')   # cluster 0 plotting\n",
        "plt.scatter(x[ypred == 1,0],x[ypred == 1,1],s=70,c='y',label ='Cluster 1')\n",
        "plt.legend()"
      ],
      "execution_count": 40,
      "outputs": [
        {
          "output_type": "execute_result",
          "data": {
            "text/plain": [
              "<matplotlib.legend.Legend at 0x7fa1667cca90>"
            ]
          },
          "metadata": {
            "tags": []
          },
          "execution_count": 40
        },
        {
          "output_type": "display_data",
          "data": {
            "image/png": "[encoded data removed]",
            "text/plain": [
              "<Figure size 432x288 with 1 Axes>"
            ]
          },
          "metadata": {
            "tags": [],
            "needs_background": "light"
          }
        }
      ]
    },
    {
      "cell_type": "markdown",
      "metadata": {
        "id": "UGy6EuS-HMBq",
        "colab_type": "text"
      },
      "source": [
        "k=3"
      ]
    },
    {
      "cell_type": "code",
      "metadata": {
        "colab_type": "code",
        "outputId": "4d3cd99c-57e1-4c8e-ee8b-51b0d10c9522",
        "id": "pbRU7NQDG8hD",
        "colab": {
          "base_uri": "https://localhost:8080/",
          "height": 35
        }
      },
      "source": [
        "# Assuming k value to be 2\n",
        "from sklearn.cluster import KMeans \n",
        "model = KMeans(n_clusters = 3 , random_state = 0) \n",
        "model.fit(x)\n",
        "ypred = model.predict(x)\n",
        "ypred"
      ],
      "execution_count": 41,
      "outputs": [
        {
          "output_type": "execute_result",
          "data": {
            "text/plain": [
              "array([0, 2, 2, 0, 0, 1, 0, 0, 1, 1, 0, 0], dtype=int32)"
            ]
          },
          "metadata": {
            "tags": []
          },
          "execution_count": 41
        }
      ]
    },
    {
      "cell_type": "code",
      "metadata": {
        "colab_type": "code",
        "outputId": "d150d260-d6d2-4534-ef32-a551078a4a6b",
        "id": "kAX2ssj1HCng",
        "colab": {
          "base_uri": "https://localhost:8080/",
          "height": 35
        }
      },
      "source": [
        "# plotting the clusters\n",
        "\n",
        "# 1. cluster 0 - 10 points (10 - height, 10- weight)\n",
        "# 2. cluster 1 - 2 points (2- height , 2- weight)\n",
        "x[ypred ==0,0] # cluster ,column  (values of cluster 0 of height column)"
      ],
      "execution_count": 42,
      "outputs": [
        {
          "output_type": "execute_result",
          "data": {
            "text/plain": [
              "array([185, 179, 182, 180, 180, 180, 177])"
            ]
          },
          "metadata": {
            "tags": []
          },
          "execution_count": 42
        }
      ]
    },
    {
      "cell_type": "code",
      "metadata": {
        "colab_type": "code",
        "outputId": "a0faae8a-55b9-4687-acd5-10f3220c6519",
        "id": "Sb6H_eLTHKII",
        "colab": {
          "base_uri": "https://localhost:8080/",
          "height": 313
        }
      },
      "source": [
        "plt.scatter(x[ypred == 0,0],x[ypred == 0,1], s=70, c='r',label ='Cluster 0')   # cluster 0 plotting\n",
        "plt.scatter(x[ypred == 1,0],x[ypred == 1,1],s=70,c='y',label ='Cluster 1')\n",
        "plt.scatter(x[ypred == 2,0],x[ypred == 2,1],s=70,c='g',label ='Cluster 2')\n",
        "plt.xlabel('height')\n",
        "plt.ylabel('weight')\n",
        "plt.title('unsupervised learning - K means ')\n",
        "plt.legend()"
      ],
      "execution_count": 44,
      "outputs": [
        {
          "output_type": "execute_result",
          "data": {
            "text/plain": [
              "<matplotlib.legend.Legend at 0x7fa166846c88>"
            ]
          },
          "metadata": {
            "tags": []
          },
          "execution_count": 44
        },
        {
          "output_type": "display_data",
          "data": {
            "image/png": "[encoded data removed]",
            "text/plain": [
              "<Figure size 432x288 with 1 Axes>"
            ]
          },
          "metadata": {
            "tags": [],
            "needs_background": "light"
          }
        }
      ]
    }
  ]
}