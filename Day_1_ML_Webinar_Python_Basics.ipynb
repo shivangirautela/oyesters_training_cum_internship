{
  "nbformat": 4,
  "nbformat_minor": 0,
  "metadata": {
    "colab": {
      "name": "Day 1-ML Webinar - Python Basics.ipynb",
      "provenance": [],
      "collapsed_sections": [],
      "authorship_tag": "ABX9TyNOexdNSy4U7IguADZ8tTSE",
      "include_colab_link": true
    },
    "kernelspec": {
      "name": "python3",
      "display_name": "Python 3"
    }
  },
  "cells": [
    {
      "cell_type": "markdown",
      "metadata": {
        "id": "view-in-github",
        "colab_type": "text"
      },
      "source": [
        "<a href=\"https://colab.research.google.com/github/shivangirautela/oyesters_training_cum_internship/blob/master/Day_1_ML_Webinar_Python_Basics.ipynb\" target=\"_parent\"><img src=\"https://colab.research.google.com/assets/colab-badge.svg\" alt=\"Open In Colab\"/></a>"
      ]
    },
    {
      "cell_type": "markdown",
      "metadata": {
        "id": "w_l2Gy4yIvI5",
        "colab_type": "text"
      },
      "source": [
        ".ipynp  -Interacive python notebook\n",
        ".py"
      ]
    },
    {
      "cell_type": "code",
      "metadata": {
        "id": "efn5byKSKFAk",
        "colab_type": "code",
        "outputId": "c0d14374-33e6-4251-c584-ae2aa9d6a63d",
        "colab": {
          "base_uri": "https://localhost:8080/",
          "height": 35
        }
      },
      "source": [
        "print(\"hello world\")"
      ],
      "execution_count": 0,
      "outputs": [
        {
          "output_type": "stream",
          "text": [
            "hello world\n"
          ],
          "name": "stdout"
        }
      ]
    },
    {
      "cell_type": "code",
      "metadata": {
        "id": "VYv0DVllKMVS",
        "colab_type": "code",
        "outputId": "653a1f3b-a2b8-49bd-b700-ac1e169257e7",
        "colab": {
          "base_uri": "https://localhost:8080/",
          "height": 52
        }
      },
      "source": [
        "#input statement\n",
        "company_name= input(\"what is your company name?\")\n",
        "print(\"my company name is  %s\" %(company_name))"
      ],
      "execution_count": 0,
      "outputs": [
        {
          "output_type": "stream",
          "text": [
            "what is your company name?diazonic labs\n",
            "my company name is  diazonic labs\n"
          ],
          "name": "stdout"
        }
      ]
    },
    {
      "cell_type": "markdown",
      "metadata": {
        "id": "7ff4b2yLMiIC",
        "colab_type": "text"
      },
      "source": [
        "# format specifier\n",
        "%s-string %d-integer %f-float "
      ]
    },
    {
      "cell_type": "code",
      "metadata": {
        "id": "RZW0HGIiKfNP",
        "colab_type": "code",
        "outputId": "616409dc-2f0f-44f2-e6f4-fc5343045127",
        "colab": {
          "base_uri": "https://localhost:8080/",
          "height": 35
        }
      },
      "source": [
        "a=1  #assssignment statement \n",
        "a"
      ],
      "execution_count": 0,
      "outputs": [
        {
          "output_type": "execute_result",
          "data": {
            "text/plain": [
              "1"
            ]
          },
          "metadata": {
            "tags": []
          },
          "execution_count": 4
        }
      ]
    },
    {
      "cell_type": "code",
      "metadata": {
        "id": "IKo0frAGKggM",
        "colab_type": "code",
        "outputId": "9e359194-75fb-4c36-b705-504b2c7a1cb5",
        "colab": {
          "base_uri": "https://localhost:8080/",
          "height": 87
        }
      },
      "source": [
        "#python uses interpreter which takes care of datatype\n",
        "a=18\n",
        "b=5\n",
        "print(a+b)\n",
        "print(a*b)\n",
        "print(a/b)\n",
        "print(a%b)"
      ],
      "execution_count": 1,
      "outputs": [
        {
          "output_type": "stream",
          "text": [
            "23\n",
            "90\n",
            "3.6\n",
            "3\n"
          ],
          "name": "stdout"
        }
      ]
    },
    {
      "cell_type": "code",
      "metadata": {
        "id": "vcWHP7yGNgaC",
        "colab_type": "code",
        "colab": {
          "base_uri": "https://localhost:8080/",
          "height": 87
        },
        "outputId": "40515cdd-fce6-466f-d23a-9128b439b38b"
      },
      "source": [
        "#datatypes in python\n",
        "a=1\n",
        "b=2.2\n",
        "c=\"shivangi\"\n",
        "d=True\n",
        "print(type(a))\n",
        "print(type(b))\n",
        "print(type(c))\n",
        "print(type(d))\n"
      ],
      "execution_count": 2,
      "outputs": [
        {
          "output_type": "stream",
          "text": [
            "<class 'int'>\n",
            "<class 'float'>\n",
            "<class 'str'>\n",
            "<class 'bool'>\n"
          ],
          "name": "stdout"
        }
      ]
    },
    {
      "cell_type": "code",
      "metadata": {
        "id": "3lAEYskrNgnJ",
        "colab_type": "code",
        "outputId": "be9e63ef-89a5-4817-fbc7-b427466fbc2d",
        "colab": {
          "base_uri": "https://localhost:8080/",
          "height": 52
        }
      },
      "source": [
        "#string datatype\n",
        "a=\"shivangi\"\n",
        "b='A'\n",
        "c='shivangi'\n",
        "d='''i am shivangi'''\n",
        "print(a,b,c,d)\n",
        "print(type(a),type(b),type(c),type(d))\n",
        "# ' =character\n",
        "# \"\" =word or sentence\n",
        "#''' = paragraph"
      ],
      "execution_count": 0,
      "outputs": [
        {
          "output_type": "stream",
          "text": [
            "shivangi A shivangi i am shivangi\n",
            "<class 'str'> <class 'str'> <class 'str'> <class 'str'>\n"
          ],
          "name": "stdout"
        }
      ]
    },
    {
      "cell_type": "code",
      "metadata": {
        "id": "sLdN74U3NiUy",
        "colab_type": "code",
        "colab": {
          "base_uri": "https://localhost:8080/",
          "height": 87
        },
        "outputId": "f89632bd-1028-43fa-d3c4-4619e4676051"
      },
      "source": [
        "#string formatting\n",
        "subscribers =300\n",
        "company_name='diazonic labs'\n",
        "print(\"my\"+company_name+\"has got\"+str(subscribers) +\"subscribers\")\n",
        "print(\"my\",company_name,\"has got\",subscribers,\"subcribers\")\n",
        "print(\"my %s has got %d subscribers \"%(company_name,subscribers))\n",
        "print(f\"my{company_name} has got {subscribers} subscribers\") #latest technique"
      ],
      "execution_count": 5,
      "outputs": [
        {
          "output_type": "stream",
          "text": [
            "mydiazonic labshas got300subscribers\n",
            "my diazonic labs has got 300 subcribers\n",
            "my diazonic labs has got 300 subscribers \n",
            "mydiazonic labs has got 300 subscribers\n"
          ],
          "name": "stdout"
        }
      ]
    },
    {
      "cell_type": "code",
      "metadata": {
        "id": "vttFkn_MP9Wz",
        "colab_type": "code",
        "colab": {}
      },
      "source": [
        "#list\n"
      ],
      "execution_count": 0,
      "outputs": []
    },
    {
      "cell_type": "code",
      "metadata": {
        "id": "tvGramzHP9jV",
        "colab_type": "code",
        "outputId": "3fda5ab7-83e3-4fc1-9dea-1b83c84fa3c6",
        "colab": {
          "base_uri": "https://localhost:8080/",
          "height": 52
        }
      },
      "source": [
        "a=[1,2,3,4]\n",
        "print(a)\n",
        "print(type(a))"
      ],
      "execution_count": 0,
      "outputs": [
        {
          "output_type": "stream",
          "text": [
            "[1, 2, 3, 4]\n",
            "<class 'list'>\n"
          ],
          "name": "stdout"
        }
      ]
    },
    {
      "cell_type": "code",
      "metadata": {
        "id": "PQt4HLzMP9w1",
        "colab_type": "code",
        "outputId": "08c935bb-0330-4fbc-fc22-a1061eb30528",
        "colab": {
          "base_uri": "https://localhost:8080/",
          "height": 104
        }
      },
      "source": [
        "b=[1,2.2,True,'diazonic']\n",
        "print(b)\n",
        "print(b[0],type(b[0]))\n",
        "print(b[1],type(b[1]))\n",
        "print(b[2],type(b[2]))\n",
        "print(b[3],type(b[3]))"
      ],
      "execution_count": 6,
      "outputs": [
        {
          "output_type": "stream",
          "text": [
            "[1, 2.2, True, 'diazonic']\n",
            "1 <class 'int'>\n",
            "2.2 <class 'float'>\n",
            "True <class 'bool'>\n",
            "diazonic <class 'str'>\n"
          ],
          "name": "stdout"
        }
      ]
    },
    {
      "cell_type": "code",
      "metadata": {
        "id": "yC7evHZqP9-T",
        "colab_type": "code",
        "outputId": "c6ee41b5-aa77-45cb-e0fd-7f4cefcc1ae9",
        "colab": {
          "base_uri": "https://localhost:8080/",
          "height": 52
        }
      },
      "source": [
        "#conditional statement\n",
        "# if, elif ans else\n",
        "\n",
        "age= int(input(\"enter your age\")) #type casting\n",
        "if(age<19):\n",
        "  print('not eligible for voting')\n",
        "else:\n",
        "  print(\"eligible for voting\")\n"
      ],
      "execution_count": 0,
      "outputs": [
        {
          "output_type": "stream",
          "text": [
            "enter your age55\n",
            "eligible for voting\n"
          ],
          "name": "stdout"
        }
      ]
    },
    {
      "cell_type": "code",
      "metadata": {
        "id": "GzAUcra8R_3B",
        "colab_type": "code",
        "outputId": "8b24636c-2ab9-49e2-ef9a-5a0f7f6a2909",
        "colab": {
          "base_uri": "https://localhost:8080/",
          "height": 35
        }
      },
      "source": [
        "#function\n",
        "\n",
        "#1. func defination\n",
        "#2. func call\n",
        "\n",
        "\n",
        "def add(a,b,c):\n",
        "  result = a+b+c\n",
        "  print(result)\n",
        "\n",
        "add(1,2,3)"
      ],
      "execution_count": 0,
      "outputs": [
        {
          "output_type": "stream",
          "text": [
            "6\n"
          ],
          "name": "stdout"
        }
      ]
    },
    {
      "cell_type": "code",
      "metadata": {
        "id": "Hk8i7BVJ43Al",
        "colab_type": "code",
        "colab": {
          "base_uri": "https://localhost:8080/",
          "height": 52
        },
        "outputId": "25bc6c89-07be-4553-cf2a-c9d79ace576a"
      },
      "source": [
        "def mul(a,b):\n",
        "  res=a*b\n",
        "  print(res)\n",
        "\n",
        "mul(5,7)\n",
        "mul(3,7)\n",
        "\n"
      ],
      "execution_count": 8,
      "outputs": [
        {
          "output_type": "stream",
          "text": [
            "35\n",
            "21\n"
          ],
          "name": "stdout"
        }
      ]
    },
    {
      "cell_type": "code",
      "metadata": {
        "id": "7uJlYZOcTa93",
        "colab_type": "code",
        "colab": {}
      },
      "source": [
        "#loops\n",
        "# for loop and while loop"
      ],
      "execution_count": 0,
      "outputs": []
    },
    {
      "cell_type": "code",
      "metadata": {
        "id": "9l9OQjCkTa4r",
        "colab_type": "code",
        "outputId": "a08b3453-6ef0-4981-cb47-9941cd40b19f",
        "colab": {
          "base_uri": "https://localhost:8080/",
          "height": 35
        }
      },
      "source": [
        "i=1   #initialization\n",
        "while(i<=10): #Condition\n",
        "  print(i,end=' \\t ')\n",
        "  i=i*2     #increment\n",
        "\n"
      ],
      "execution_count": 9,
      "outputs": [
        {
          "output_type": "stream",
          "text": [
            "1 \t 2 \t 4 \t 8 \t "
          ],
          "name": "stdout"
        }
      ]
    },
    {
      "cell_type": "code",
      "metadata": {
        "id": "vxe2A0J_Ta17",
        "colab_type": "code",
        "colab": {
          "base_uri": "https://localhost:8080/",
          "height": 35
        },
        "outputId": "f326ff7d-5f3f-4b23-a19d-c744078d4984"
      },
      "source": [
        "import time   #import librarry\n",
        "i=1    #initialization\n",
        "while(i<=10):  #condition\n",
        "  print(i,end=' ')\n",
        "  time.sleep(1)   #method of time library \n",
        "  i=i+1  #increment\n"
      ],
      "execution_count": 10,
      "outputs": [
        {
          "output_type": "stream",
          "text": [
            "1 2 3 4 5 6 7 8 9 10 "
          ],
          "name": "stdout"
        }
      ]
    },
    {
      "cell_type": "markdown",
      "metadata": {
        "id": "Y3ygbKGjTazN",
        "colab_type": "text"
      },
      "source": [
        "Whenever we import a library in Python, it is \n",
        "considered as an object. Object will have 2 important features:\n",
        "\n",
        "1.Method() - Functions\n",
        "\n",
        "2.Attribute - Variables"
      ]
    },
    {
      "cell_type": "code",
      "metadata": {
        "id": "FVAPwAefTawV",
        "colab_type": "code",
        "colab": {}
      },
      "source": [
        "# C Language/C++/Java - Compiler\n",
        "\n",
        "# Numpy\n",
        "# Matplotlib\n",
        "# Pandas\n",
        "# Sklearn - ML Library\n",
        "\n",
        "# Python - Original Website\n",
        "# Python for Dummies - Book\n"
      ],
      "execution_count": 0,
      "outputs": []
    },
    {
      "cell_type": "code",
      "metadata": {
        "id": "kkeGyRjETath",
        "colab_type": "code",
        "colab": {}
      },
      "source": [
        ""
      ],
      "execution_count": 0,
      "outputs": []
    },
    {
      "cell_type": "code",
      "metadata": {
        "id": "46e2lvbOR_yf",
        "colab_type": "code",
        "colab": {}
      },
      "source": [
        ""
      ],
      "execution_count": 0,
      "outputs": []
    },
    {
      "cell_type": "code",
      "metadata": {
        "id": "1a6u4YVmR_xZ",
        "colab_type": "code",
        "colab": {}
      },
      "source": [
        ""
      ],
      "execution_count": 0,
      "outputs": []
    },
    {
      "cell_type": "code",
      "metadata": {
        "id": "1ZfQq4DpR_uH",
        "colab_type": "code",
        "colab": {}
      },
      "source": [
        ""
      ],
      "execution_count": 0,
      "outputs": []
    },
    {
      "cell_type": "code",
      "metadata": {
        "id": "uU7cnm0GR_sW",
        "colab_type": "code",
        "colab": {}
      },
      "source": [
        ""
      ],
      "execution_count": 0,
      "outputs": []
    },
    {
      "cell_type": "code",
      "metadata": {
        "id": "Xuc3DH2jR_pP",
        "colab_type": "code",
        "colab": {}
      },
      "source": [
        ""
      ],
      "execution_count": 0,
      "outputs": []
    },
    {
      "cell_type": "code",
      "metadata": {
        "id": "nYr625f5R_nK",
        "colab_type": "code",
        "colab": {}
      },
      "source": [
        ""
      ],
      "execution_count": 0,
      "outputs": []
    },
    {
      "cell_type": "code",
      "metadata": {
        "id": "M1pvqdWvR_je",
        "colab_type": "code",
        "colab": {}
      },
      "source": [
        ""
      ],
      "execution_count": 0,
      "outputs": []
    },
    {
      "cell_type": "code",
      "metadata": {
        "id": "8P7nntPnR_gW",
        "colab_type": "code",
        "colab": {}
      },
      "source": [
        ""
      ],
      "execution_count": 0,
      "outputs": []
    },
    {
      "cell_type": "code",
      "metadata": {
        "id": "Khx2z3ruR-2Q",
        "colab_type": "code",
        "colab": {}
      },
      "source": [
        ""
      ],
      "execution_count": 0,
      "outputs": []
    },
    {
      "cell_type": "code",
      "metadata": {
        "id": "wmwO8Aw0P-M3",
        "colab_type": "code",
        "colab": {}
      },
      "source": [
        ""
      ],
      "execution_count": 0,
      "outputs": []
    },
    {
      "cell_type": "code",
      "metadata": {
        "id": "VcE67yxDP-aM",
        "colab_type": "code",
        "colab": {}
      },
      "source": [
        ""
      ],
      "execution_count": 0,
      "outputs": []
    }
  ]
}