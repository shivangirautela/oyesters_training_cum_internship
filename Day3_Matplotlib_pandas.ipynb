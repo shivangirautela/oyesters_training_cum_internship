{
  "nbformat": 4,
  "nbformat_minor": 0,
  "metadata": {
    "colab": {
      "name": "Day3-Matplotlib_pandas.ipynb",
      "provenance": [],
      "collapsed_sections": [],
      "authorship_tag": "ABX9TyOUf0UYl98c98kwyFHxck2U",
      "include_colab_link": true
    },
    "kernelspec": {
      "name": "python3",
      "display_name": "Python 3"
    }
  },
  "cells": [
    {
      "cell_type": "markdown",
      "metadata": {
        "id": "view-in-github",
        "colab_type": "text"
      },
      "source": [
        "<a href=\"https://colab.research.google.com/github/shivangirautela/oyesters_training_cum_internship/blob/master/Day3_Matplotlib_pandas.ipynb\" target=\"_parent\"><img src=\"https://colab.research.google.com/assets/colab-badge.svg\" alt=\"Open In Colab\"/></a>"
      ]
    },
    {
      "cell_type": "code",
      "metadata": {
        "id": "AJHah-5Rb4Ol",
        "colab_type": "code",
        "colab": {}
      },
      "source": [
        "import matplotlib.pyplot as plt\n",
        "# matplotlib - package[collection of libraries]\n",
        "# pyplot - sub-package[library]"
      ],
      "execution_count": 0,
      "outputs": []
    },
    {
      "cell_type": "code",
      "metadata": {
        "id": "iHmMM5BDdp0L",
        "colab_type": "code",
        "outputId": "77878455-6e45-4c09-cf2c-58873f46371c",
        "colab": {
          "base_uri": "https://localhost:8080/",
          "height": 159
        }
      },
      "source": [
        "!pip install matplotlib"
      ],
      "execution_count": 3,
      "outputs": [
        {
          "output_type": "stream",
          "text": [
            "Requirement already satisfied: matplotlib in /usr/local/lib/python3.6/dist-packages (3.2.1)\n",
            "Requirement already satisfied: python-dateutil>=2.1 in /usr/local/lib/python3.6/dist-packages (from matplotlib) (2.8.1)\n",
            "Requirement already satisfied: kiwisolver>=1.0.1 in /usr/local/lib/python3.6/dist-packages (from matplotlib) (1.2.0)\n",
            "Requirement already satisfied: cycler>=0.10 in /usr/local/lib/python3.6/dist-packages (from matplotlib) (0.10.0)\n",
            "Requirement already satisfied: pyparsing!=2.0.4,!=2.1.2,!=2.1.6,>=2.0.1 in /usr/local/lib/python3.6/dist-packages (from matplotlib) (2.4.7)\n",
            "Requirement already satisfied: numpy>=1.11 in /usr/local/lib/python3.6/dist-packages (from matplotlib) (1.18.4)\n",
            "Requirement already satisfied: six>=1.5 in /usr/local/lib/python3.6/dist-packages (from python-dateutil>=2.1->matplotlib) (1.12.0)\n"
          ],
          "name": "stdout"
        }
      ]
    },
    {
      "cell_type": "code",
      "metadata": {
        "id": "JAeHvnYMdMVf",
        "colab_type": "code",
        "outputId": "92f0d4b6-9f75-4463-c6bb-5c337d9b3eec",
        "colab": {
          "base_uri": "https://localhost:8080/",
          "height": 350
        }
      },
      "source": [
        "#Line Plot\n",
        "x=[-1,2,3,7]\n",
        "y=[-3,-4,7,8]\n",
        "plt.plot(x,y,c='r',marker=\"*\")\n",
        "ax= plt.axes()\n",
        "ax.set_facecolor('k')\n",
        "plt.xlabel('X-axis')\n",
        "plt.ylabel('Y-axis')\n",
        "plt.title('Line plot')\n",
        "plt.show()"
      ],
      "execution_count": 4,
      "outputs": [
        {
          "output_type": "stream",
          "text": [
            "/usr/local/lib/python3.6/dist-packages/ipykernel_launcher.py:5: MatplotlibDeprecationWarning: Adding an axes using the same arguments as a previous axes currently reuses the earlier instance.  In a future version, a new instance will always be created and returned.  Meanwhile, this warning can be suppressed, and the future behavior ensured, by passing a unique label to each axes instance.\n",
            "  \"\"\"\n"
          ],
          "name": "stderr"
        },
        {
          "output_type": "display_data",
          "data": {
            "image/png": "[encoded data removed]",
            "text/plain": [
              "<Figure size 432x288 with 1 Axes>"
            ]
          },
          "metadata": {
            "tags": [],
            "needs_background": "light"
          }
        }
      ]
    },
    {
      "cell_type": "code",
      "metadata": {
        "id": "uzuOtZndeIJ6",
        "colab_type": "code",
        "colab": {}
      },
      "source": [
        "plt.plot?"
      ],
      "execution_count": 0,
      "outputs": []
    },
    {
      "cell_type": "code",
      "metadata": {
        "id": "ArzDYtrjeIMj",
        "colab_type": "code",
        "outputId": "61ffd41e-8deb-44b3-d9a4-2dd6f2d70e18",
        "colab": {
          "base_uri": "https://localhost:8080/",
          "height": 350
        }
      },
      "source": [
        "#scatter Plot\n",
        "x=[-1,2,3,7]\n",
        "y=[-3,-4,7,8]\n",
        "plt.scatter(x,y,c='r')\n",
        "ax= plt.axes()\n",
        "ax.set_facecolor('k')\n",
        "plt.xlabel('X-axis')\n",
        "plt.ylabel('Y-axis')\n",
        "plt.title('scatter plot')\n",
        "plt.show()"
      ],
      "execution_count": 6,
      "outputs": [
        {
          "output_type": "stream",
          "text": [
            "/usr/local/lib/python3.6/dist-packages/ipykernel_launcher.py:5: MatplotlibDeprecationWarning: Adding an axes using the same arguments as a previous axes currently reuses the earlier instance.  In a future version, a new instance will always be created and returned.  Meanwhile, this warning can be suppressed, and the future behavior ensured, by passing a unique label to each axes instance.\n",
            "  \"\"\"\n"
          ],
          "name": "stderr"
        },
        {
          "output_type": "display_data",
          "data": {
            "image/png": "[encoded data removed]",
            "text/plain": [
              "<Figure size 432x288 with 1 Axes>"
            ]
          },
          "metadata": {
            "tags": [],
            "needs_background": "light"
          }
        }
      ]
    },
    {
      "cell_type": "code",
      "metadata": {
        "id": "bj-EBvC7eIQA",
        "colab_type": "code",
        "outputId": "f285b641-ef4a-4e17-f301-76675257acef",
        "colab": {
          "base_uri": "https://localhost:8080/",
          "height": 350
        }
      },
      "source": [
        "#scatter Plot\n",
        "import numpy as np\n",
        "x=np.random.randint(1,100,100)\n",
        "y=np.random.randint(1,600,100)\n",
        "color=np.random.randint(1,100,100)\n",
        "size=np.random.randint(1,100,100)\n",
        "\n",
        "plt.scatter(x,y,c=color,s=size)\n",
        "ax= plt.axes()\n",
        "ax.set_facecolor('k')\n",
        "plt.xlabel('X-axis')\n",
        "plt.ylabel('Y-axis')\n",
        "plt.title('scatter plot')\n",
        "plt.show()"
      ],
      "execution_count": 7,
      "outputs": [
        {
          "output_type": "stream",
          "text": [
            "/usr/local/lib/python3.6/dist-packages/ipykernel_launcher.py:9: MatplotlibDeprecationWarning: Adding an axes using the same arguments as a previous axes currently reuses the earlier instance.  In a future version, a new instance will always be created and returned.  Meanwhile, this warning can be suppressed, and the future behavior ensured, by passing a unique label to each axes instance.\n",
            "  if __name__ == '__main__':\n"
          ],
          "name": "stderr"
        },
        {
          "output_type": "display_data",
          "data": {
            "image/png": "[encoded data removed]",
            "text/plain": [
              "<Figure size 432x288 with 1 Axes>"
            ]
          },
          "metadata": {
            "tags": [],
            "needs_background": "light"
          }
        }
      ]
    },
    {
      "cell_type": "code",
      "metadata": {
        "id": "aoNwo6FMeIRv",
        "colab_type": "code",
        "outputId": "b5fe8e3c-fdf2-483d-a189-ac6a404b99ae",
        "colab": {
          "base_uri": "https://localhost:8080/",
          "height": 297
        }
      },
      "source": [
        "a = np.random.randint(1,10,9)\n",
        "b = np.arange(21,30,1)\n",
        "print(a,b)\n",
        "plt.xlabel('Xaxis')\n",
        "plt.ylabel('Yaxis')\n",
        "plt.plot(a,b)    # predicted line\n",
        "plt.scatter(a,b,c='r')   # original data points\n",
        "plt.show()"
      ],
      "execution_count": 8,
      "outputs": [
        {
          "output_type": "stream",
          "text": [
            "[5 3 3 8 7 4 3 3 9] [21 22 23 24 25 26 27 28 29]\n"
          ],
          "name": "stdout"
        },
        {
          "output_type": "display_data",
          "data": {
            "image/png": "[encoded data removed]",
            "text/plain": [
              "<Figure size 432x288 with 1 Axes>"
            ]
          },
          "metadata": {
            "tags": [],
            "needs_background": "light"
          }
        }
      ]
    },
    {
      "cell_type": "code",
      "metadata": {
        "id": "P6IAxDjJeIUY",
        "colab_type": "code",
        "outputId": "b77e8b76-6fff-4003-d74a-160c69d995b8",
        "colab": {
          "base_uri": "https://localhost:8080/",
          "height": 295
        }
      },
      "source": [
        "# bar graph\n",
        "name =['mr x','mr y','mr z','mr a']\n",
        "weight = [ 324,3225,656,887]\n",
        "height=[243,434,546,776]\n",
        "c_list =['red' if x>500 else 'k' for x in weight] #list comprhension\n",
        "plt.xlabel('person')\n",
        "plt.ylabel('weight')\n",
        "plt.title('bar graph: person vs weight')\n",
        "plt.bar(name,weight,width=0.9,color=['r','#F5942C','orange','k'])\n",
        "plt.bar(name,height,width=0.5,color=c_list)\n",
        " #plt.bar(name,height,width=1,color=['g','k','#F5942C','orange'])\n",
        "plt.show()"
      ],
      "execution_count": 9,
      "outputs": [
        {
          "output_type": "display_data",
          "data": {
            "image/png": "[encoded data removed]",
            "text/plain": [
              "<Figure size 432x288 with 1 Axes>"
            ]
          },
          "metadata": {
            "tags": [],
            "needs_background": "light"
          }
        }
      ]
    },
    {
      "cell_type": "code",
      "metadata": {
        "id": "wjqc7scUeIWV",
        "colab_type": "code",
        "colab": {}
      },
      "source": [
        "# pandas library \n",
        "# used for data analysis\n",
        "#1. sklearn only accepts numbers as inputs\n",
        "#2. data - text,number,images,video,audio (convert into numbers for machine learning model)\n",
        "#3. dataframe (convert into 2 dimension object of pandas library) - common platform "
      ],
      "execution_count": 0,
      "outputs": []
    },
    {
      "cell_type": "code",
      "metadata": {
        "id": "vWVIXS_BqvAj",
        "colab_type": "code",
        "colab": {}
      },
      "source": [
        "#csv- comma separated values\n",
        "#tsc- tabs separated values"
      ],
      "execution_count": 0,
      "outputs": []
    },
    {
      "cell_type": "code",
      "metadata": {
        "id": "pl-WLDUreIZk",
        "colab_type": "code",
        "colab": {}
      },
      "source": [
        "# datasets - csv, excel, tsv, json, etc (file formats)\n",
        "#1. pd.DataFrame(a) - for list,numpy arrays, dictionaries\n",
        "#2. pd.read_csv() -for csv files\n",
        "#3. pd.read_excel- for excel file"
      ],
      "execution_count": 0,
      "outputs": []
    },
    {
      "cell_type": "code",
      "metadata": {
        "id": "2kXh8iWueIcJ",
        "colab_type": "code",
        "outputId": "97617fac-ab4d-4c71-ffdf-c4c7ee516f5a",
        "colab": {
          "base_uri": "https://localhost:8080/",
          "height": 35
        }
      },
      "source": [
        "a=[1,1,3]\n",
        "print(type(a))"
      ],
      "execution_count": 13,
      "outputs": [
        {
          "output_type": "stream",
          "text": [
            "<class 'list'>\n"
          ],
          "name": "stdout"
        }
      ]
    },
    {
      "cell_type": "code",
      "metadata": {
        "id": "25_mFIvdeIfI",
        "colab_type": "code",
        "colab": {
          "base_uri": "https://localhost:8080/",
          "height": 52
        },
        "outputId": "9ccbc370-355e-423e-da1b-12bca7aa73c3"
      },
      "source": [
        "d={'mr x' : [2000]} # key : value\n",
        "print(d)\n",
        "print(type(d))"
      ],
      "execution_count": 1,
      "outputs": [
        {
          "output_type": "stream",
          "text": [
            "{'mr x': [2000]}\n",
            "<class 'dict'>\n"
          ],
          "name": "stdout"
        }
      ]
    },
    {
      "cell_type": "code",
      "metadata": {
        "id": "0jvGyGFDeInx",
        "colab_type": "code",
        "colab": {
          "base_uri": "https://localhost:8080/",
          "height": 35
        },
        "outputId": "78ad2411-4187-41e8-a279-dc078cac5b60"
      },
      "source": [
        "d1={'name' : ['mr x','mr y','mr z'],\n",
        "    'salary' : [10000,23000,14000]}\n",
        "print(d1)"
      ],
      "execution_count": 14,
      "outputs": [
        {
          "output_type": "stream",
          "text": [
            "{'name': ['mr x', 'mr y', 'mr z'], 'salary': [10000, 23000, 14000]}\n"
          ],
          "name": "stdout"
        }
      ]
    },
    {
      "cell_type": "code",
      "metadata": {
        "id": "ShgSGwfQnnlF",
        "colab_type": "code",
        "colab": {
          "base_uri": "https://localhost:8080/",
          "height": 141
        },
        "outputId": "a3c282aa-d87c-444a-a5a9-b75b837122c8"
      },
      "source": [
        "import pandas as pd\n",
        "df = pd.DataFrame(d1)\n",
        "df"
      ],
      "execution_count": 15,
      "outputs": [
        {
          "output_type": "execute_result",
          "data": {
            "text/html": [
              "<div>\n",
              "<style scoped>\n",
              "    .dataframe tbody tr th:only-of-type {\n",
              "        vertical-align: middle;\n",
              "    }\n",
              "\n",
              "    .dataframe tbody tr th {\n",
              "        vertical-align: top;\n",
              "    }\n",
              "\n",
              "    .dataframe thead th {\n",
              "        text-align: right;\n",
              "    }\n",
              "</style>\n",
              "<table border=\"1\" class=\"dataframe\">\n",
              "  <thead>\n",
              "    <tr style=\"text-align: right;\">\n",
              "      <th></th>\n",
              "      <th>name</th>\n",
              "      <th>salary</th>\n",
              "    </tr>\n",
              "  </thead>\n",
              "  <tbody>\n",
              "    <tr>\n",
              "      <th>0</th>\n",
              "      <td>mr x</td>\n",
              "      <td>10000</td>\n",
              "    </tr>\n",
              "    <tr>\n",
              "      <th>1</th>\n",
              "      <td>mr y</td>\n",
              "      <td>23000</td>\n",
              "    </tr>\n",
              "    <tr>\n",
              "      <th>2</th>\n",
              "      <td>mr z</td>\n",
              "      <td>14000</td>\n",
              "    </tr>\n",
              "  </tbody>\n",
              "</table>\n",
              "</div>"
            ],
            "text/plain": [
              "   name  salary\n",
              "0  mr x   10000\n",
              "1  mr y   23000\n",
              "2  mr z   14000"
            ]
          },
          "metadata": {
            "tags": []
          },
          "execution_count": 15
        }
      ]
    },
    {
      "cell_type": "code",
      "metadata": {
        "id": "Q_zwzLMinngF",
        "colab_type": "code",
        "colab": {}
      },
      "source": [
        "df.to_csv('demo.csv',index=False)"
      ],
      "execution_count": 0,
      "outputs": []
    },
    {
      "cell_type": "code",
      "metadata": {
        "id": "8RTtJjbin2zh",
        "colab_type": "code",
        "colab": {
          "base_uri": "https://localhost:8080/",
          "height": 141
        },
        "outputId": "245ffe82-95c4-40c9-e3b1-8f4ada55226c"
      },
      "source": [
        "df1 = pd.read_csv('demo.csv')\n",
        "df1"
      ],
      "execution_count": 17,
      "outputs": [
        {
          "output_type": "execute_result",
          "data": {
            "text/html": [
              "<div>\n",
              "<style scoped>\n",
              "    .dataframe tbody tr th:only-of-type {\n",
              "        vertical-align: middle;\n",
              "    }\n",
              "\n",
              "    .dataframe tbody tr th {\n",
              "        vertical-align: top;\n",
              "    }\n",
              "\n",
              "    .dataframe thead th {\n",
              "        text-align: right;\n",
              "    }\n",
              "</style>\n",
              "<table border=\"1\" class=\"dataframe\">\n",
              "  <thead>\n",
              "    <tr style=\"text-align: right;\">\n",
              "      <th></th>\n",
              "      <th>name</th>\n",
              "      <th>salary</th>\n",
              "    </tr>\n",
              "  </thead>\n",
              "  <tbody>\n",
              "    <tr>\n",
              "      <th>0</th>\n",
              "      <td>mr x</td>\n",
              "      <td>10000</td>\n",
              "    </tr>\n",
              "    <tr>\n",
              "      <th>1</th>\n",
              "      <td>mr y</td>\n",
              "      <td>23000</td>\n",
              "    </tr>\n",
              "    <tr>\n",
              "      <th>2</th>\n",
              "      <td>mr z</td>\n",
              "      <td>14000</td>\n",
              "    </tr>\n",
              "  </tbody>\n",
              "</table>\n",
              "</div>"
            ],
            "text/plain": [
              "   name  salary\n",
              "0  mr x   10000\n",
              "1  mr y   23000\n",
              "2  mr z   14000"
            ]
          },
          "metadata": {
            "tags": []
          },
          "execution_count": 17
        }
      ]
    },
    {
      "cell_type": "code",
      "metadata": {
        "id": "PVaSLTfTn28a",
        "colab_type": "code",
        "colab": {}
      },
      "source": [
        ""
      ],
      "execution_count": 0,
      "outputs": []
    }
  ]
}