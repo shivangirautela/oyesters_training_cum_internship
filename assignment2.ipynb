{
  "nbformat": 4,
  "nbformat_minor": 0,
  "metadata": {
    "colab": {
      "name": "assignment2.ipynb",
      "provenance": [],
      "authorship_tag": "ABX9TyOzSmESnuQHd0ja9iIMteCT",
      "include_colab_link": true
    },
    "kernelspec": {
      "name": "python3",
      "display_name": "Python 3"
    }
  },
  "cells": [
    {
      "cell_type": "markdown",
      "metadata": {
        "id": "view-in-github",
        "colab_type": "text"
      },
      "source": [
        "<a href=\"https://colab.research.google.com/github/shivangirautela/oyesters_training_cum_internship/blob/master/assignment2.ipynb\" target=\"_parent\"><img src=\"https://colab.research.google.com/assets/colab-badge.svg\" alt=\"Open In Colab\"/></a>"
      ]
    },
    {
      "cell_type": "code",
      "metadata": {
        "id": "NMv6ZpITJZyx",
        "colab_type": "code",
        "colab": {}
      },
      "source": [
        "import numpy as np"
      ],
      "execution_count": 0,
      "outputs": []
    },
    {
      "cell_type": "code",
      "metadata": {
        "id": "wOS9vU2mJoFp",
        "colab_type": "code",
        "colab": {
          "base_uri": "https://localhost:8080/",
          "height": 35
        },
        "outputId": "2171cd41-9d7a-420e-dc9d-2787d07a05e7"
      },
      "source": [
        "r=np.random.randint(50,100,10)\n",
        "r.sort(-1,'mergesort')\n",
        "r\n",
        "r[::-1].sort()\n",
        "r"
      ],
      "execution_count": 23,
      "outputs": [
        {
          "output_type": "execute_result",
          "data": {
            "text/plain": [
              "array([95, 85, 84, 79, 78, 75, 68, 67, 62, 55])"
            ]
          },
          "metadata": {
            "tags": []
          },
          "execution_count": 23
        }
      ]
    },
    {
      "cell_type": "code",
      "metadata": {
        "id": "8fb-SQOkNFd0",
        "colab_type": "code",
        "colab": {
          "base_uri": "https://localhost:8080/",
          "height": 35
        },
        "outputId": "9974c5f7-b18e-41ff-f524-f0bfbb65c17f"
      },
      "source": [
        "c=7\n",
        "r=np.append(r,c)\n",
        "r"
      ],
      "execution_count": 24,
      "outputs": [
        {
          "output_type": "execute_result",
          "data": {
            "text/plain": [
              "array([95, 85, 84, 79, 78, 75, 68, 67, 62, 55,  7])"
            ]
          },
          "metadata": {
            "tags": []
          },
          "execution_count": 24
        }
      ]
    },
    {
      "cell_type": "code",
      "metadata": {
        "id": "RZbass-fOd7o",
        "colab_type": "code",
        "colab": {
          "base_uri": "https://localhost:8080/",
          "height": 87
        },
        "outputId": "a757b398-c01a-4c86-e390-bab518d85790"
      },
      "source": [
        "c=np.power(r,3)\n",
        "print(c)\n",
        "sq=np.sqrt(r)\n",
        "print(sq)"
      ],
      "execution_count": 25,
      "outputs": [
        {
          "output_type": "stream",
          "text": [
            "[857375 614125 592704 493039 474552 421875 314432 300763 238328 166375\n",
            "    343]\n",
            "[9.74679434 9.21954446 9.16515139 8.88819442 8.83176087 8.66025404\n",
            " 8.24621125 8.18535277 7.87400787 7.41619849 2.64575131]\n"
          ],
          "name": "stdout"
        }
      ]
    },
    {
      "cell_type": "code",
      "metadata": {
        "id": "YrwtZIWkOd-d",
        "colab_type": "code",
        "colab": {
          "base_uri": "https://localhost:8080/",
          "height": 104
        },
        "outputId": "4cb8876e-755f-490b-c992-0d8553a5ac14"
      },
      "source": [
        "s=np.sum(r)\n",
        "print(s)\n",
        "ma=np.max(r)\n",
        "print(ma)\n",
        "me=np.min(r)\n",
        "print(me)\n",
        "mea=np.mean(r)\n",
        "print(mea)\n",
        "mead=np.median(r)\n",
        "print(mead)"
      ],
      "execution_count": 26,
      "outputs": [
        {
          "output_type": "stream",
          "text": [
            "755\n",
            "95\n",
            "7\n",
            "68.63636363636364\n",
            "75.0\n"
          ],
          "name": "stdout"
        }
      ]
    },
    {
      "cell_type": "code",
      "metadata": {
        "id": "18zTV3_kRH7g",
        "colab_type": "code",
        "colab": {
          "base_uri": "https://localhost:8080/",
          "height": 69
        },
        "outputId": "edcfa837-0279-48f7-c943-3e295bbd546b"
      },
      "source": [
        "n=(r-me)/(ma-me)\n",
        "n\n"
      ],
      "execution_count": 28,
      "outputs": [
        {
          "output_type": "execute_result",
          "data": {
            "text/plain": [
              "array([1.        , 0.88636364, 0.875     , 0.81818182, 0.80681818,\n",
              "       0.77272727, 0.69318182, 0.68181818, 0.625     , 0.54545455,\n",
              "       0.        ])"
            ]
          },
          "metadata": {
            "tags": []
          },
          "execution_count": 28
        }
      ]
    }
  ]
}