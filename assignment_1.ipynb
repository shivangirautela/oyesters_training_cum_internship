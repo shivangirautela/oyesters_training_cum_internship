{
  "nbformat": 4,
  "nbformat_minor": 0,
  "metadata": {
    "colab": {
      "name": "assignment_1.ipynb",
      "provenance": [],
      "authorship_tag": "ABX9TyP97v7YPqIuvRF4WUFCkzDd",
      "include_colab_link": true
    },
    "kernelspec": {
      "name": "python3",
      "display_name": "Python 3"
    }
  },
  "cells": [
    {
      "cell_type": "markdown",
      "metadata": {
        "id": "view-in-github",
        "colab_type": "text"
      },
      "source": [
        "<a href=\"https://colab.research.google.com/github/shivangirautela/oyesters_training_cum_internship/blob/master/assignment_1.ipynb\" target=\"_parent\"><img src=\"https://colab.research.google.com/assets/colab-badge.svg\" alt=\"Open In Colab\"/></a>"
      ]
    },
    {
      "cell_type": "markdown",
      "metadata": {
        "id": "fZpsgTcn0PI_",
        "colab_type": "text"
      },
      "source": [
        "Assignment 1"
      ]
    },
    {
      "cell_type": "code",
      "metadata": {
        "id": "I_X42B2I0T5-",
        "colab_type": "code",
        "colab": {
          "base_uri": "https://localhost:8080/",
          "height": 104
        },
        "outputId": "d95173b0-f115-4b99-adb1-941082a75726"
      },
      "source": [
        "num1='25'\n",
        "print(num1)\n",
        "print(type(num1))\n",
        "num1=int(num1)\n",
        "print(num1)\n",
        "num2=float(input(\"enter a variable num2 :\"))\n",
        "res=num1+num2\n",
        "print(\"the sum of num1 and num2 is: %.1f\"%(res))\n"
      ],
      "execution_count": 8,
      "outputs": [
        {
          "output_type": "stream",
          "text": [
            "25\n",
            "<class 'str'>\n",
            "25\n",
            "enter a variable num2 :26.2\n",
            "the sum of num1 and num2 is: 51.2\n"
          ],
          "name": "stdout"
        }
      ]
    },
    {
      "cell_type": "code",
      "metadata": {
        "id": "Z3Oh69Ir1HDZ",
        "colab_type": "code",
        "colab": {
          "base_uri": "https://localhost:8080/",
          "height": 69
        },
        "outputId": "abdc33a0-47a6-4aac-8016-fb293b50e95e"
      },
      "source": [
        "weather=input(\"enter weather today :\")\n",
        "\n",
        "def season(weather):\n",
        "  if(weather == \"cold\"):\n",
        "    print(\"Winter\")\n",
        "  elif(weather == \"sunny\"):\n",
        "    print(\"Summer\")\n",
        "  else:\n",
        "    print(\"wrong input\")\n",
        "\n",
        "print(\"Todays season is :\")\n",
        "season(weather)"
      ],
      "execution_count": 15,
      "outputs": [
        {
          "output_type": "stream",
          "text": [
            "enter weather today :sunny\n",
            "Todays season is :\n",
            "Summer\n"
          ],
          "name": "stdout"
        }
      ]
    },
    {
      "cell_type": "code",
      "metadata": {
        "id": "jJ__c3Je45kA",
        "colab_type": "code",
        "colab": {
          "base_uri": "https://localhost:8080/",
          "height": 35
        },
        "outputId": "cca1600d-81e7-4be7-e36f-e4e3d0650ada"
      },
      "source": [
        "list1 = [1,2,3,4]\n",
        "\n",
        "list2 = list1\n",
        "\n",
        "list1[1] = 0\n",
        "\n",
        "list1[3] = 0\n",
        "\n",
        "print(list2)"
      ],
      "execution_count": 16,
      "outputs": [
        {
          "output_type": "stream",
          "text": [
            "[1, 0, 3, 0]\n"
          ],
          "name": "stdout"
        }
      ]
    },
    {
      "cell_type": "code",
      "metadata": {
        "id": "9g1rcM8s45qv",
        "colab_type": "code",
        "colab": {
          "base_uri": "https://localhost:8080/",
          "height": 208
        },
        "outputId": "85cfd07e-01b4-4ade-df38-3ea6c4f26f59"
      },
      "source": [
        "import time\n",
        "\n",
        "c=int(input(\"enter start time duration: \"))\n",
        "\n",
        "def countdown_timer(c):\n",
        "  while(c>0):\n",
        "    print(c)\n",
        "    time.sleep(1)\n",
        "    c=c-1\n",
        "\n",
        "countdown_timer(c)\n"
      ],
      "execution_count": 20,
      "outputs": [
        {
          "output_type": "stream",
          "text": [
            "enter start time duration: 10\n",
            "10\n",
            "9\n",
            "8\n",
            "7\n",
            "6\n",
            "5\n",
            "4\n",
            "3\n",
            "2\n",
            "1\n"
          ],
          "name": "stdout"
        }
      ]
    }
  ]
}